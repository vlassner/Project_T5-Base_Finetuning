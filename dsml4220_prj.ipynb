{
  "cells": [
    {
      "cell_type": "markdown",
      "metadata": {
        "id": "view-in-github",
        "colab_type": "text"
      },
      "source": [
        "<a href=\"https://colab.research.google.com/github/vlassner/dsml_4220_project/blob/main/dsml4220_prj.ipynb\" target=\"_parent\"><img src=\"https://colab.research.google.com/assets/colab-badge.svg\" alt=\"Open In Colab\"/></a>"
      ]
    },
    {
      "cell_type": "markdown",
      "metadata": {
        "id": "xip9q78PK-Sh"
      },
      "source": [
        "# Deep Learning Project\n",
        "By Victoria Lassner\n",
        "DSML 4220\n",
        "\n",
        "**Goal**: Fine tune a model for abstractive Summarization.\n",
        "\n",
        "**Model:** T5-Base with its Tokenizer\n",
        "\n",
        "Websites: https://huggingface.co/docs/transformers/tasks/summarization\n",
        "\n",
        "**Future Models to Compare:**\n",
        "\n",
        "https://wandb.ai/mostafaibrahim17/ml-articles/reports/Fine-Tuning-LLaMa-2-for-Text-Summarization--Vmlldzo2NjA1OTAy\n",
        "\n",
        "https://wandb.ai/mostafaibrahim17/ml-articles/reports/Crafting-Superior-Summaries-The-ChatGPT-Fine-Tuning-Guide--Vmlldzo1Njc5NDI1\n",
        "\n",
        "**Definitions:**\n",
        "\n",
        "Abstractive summarization = oncise summary of a text by understanding its meaning and creating new sentences, rather than simply extracting phrases from the original text.\n",
        "\n",
        "*****\n",
        "**Dataset:**\n",
        "CNN/DailyMail: https://paperswithcode.com/dataset/cnn-daily-mail-1\n"
      ]
    },
    {
      "cell_type": "code",
      "execution_count": null,
      "metadata": {
        "id": "VCQVE40eIC9u"
      },
      "outputs": [],
      "source": [
        "# disables weights and biases\n",
        "import os\n",
        "os.environ[\"WANDB_DISABLED\"] = \"true\""
      ]
    },
    {
      "cell_type": "code",
      "execution_count": null,
      "metadata": {
        "id": "BRJlkbTc-AHe"
      },
      "outputs": [],
      "source": [
        "# downloads packages for model, dataset, rouge and tokenzier\n",
        "# --Quiet limits output of messages\n",
        "!pip install transformers datasets evaluate sentencepiece rouge_score --quiet"
      ]
    },
    {
      "cell_type": "code",
      "source": [
        "!pip install --upgrade huggingface-hub\n",
        "\n",
        "from huggingface_hub import notebook_login\n",
        "notebook_login()"
      ],
      "metadata": {
        "id": "DFQL9tVz6QWX"
      },
      "execution_count": null,
      "outputs": []
    },
    {
      "cell_type": "code",
      "execution_count": null,
      "metadata": {
        "id": "Rl1bQHrq-FUW"
      },
      "outputs": [],
      "source": [
        "# Download packages\n",
        "from datasets import load_dataset, concatenate_datasets\n",
        "from transformers import T5ForConditionalGeneration, TrainingArguments, Trainer, T5Tokenizer\n",
        "import torch\n",
        "from torch.utils.data import DataLoader\n",
        "import torch"
      ]
    },
    {
      "cell_type": "code",
      "execution_count": null,
      "metadata": {
        "id": "1T3geNBfK9f4"
      },
      "outputs": [],
      "source": [
        "# Load CNN/Daily Mail Dataset from dataset package\n",
        "\n",
        "train_sample_limit = 5000\n",
        "val_sample_limit = 2000\n",
        "\n",
        "dataset = load_dataset(\"cnn_dailymail\", \"3.0.0\")\n",
        "train_data = dataset[\"train\"].shuffle().select(range(train_sample_limit))\n",
        "val_data = dataset[\"validation\"].shuffle().select(range(val_sample_limit))\n"
      ]
    },
    {
      "cell_type": "code",
      "execution_count": null,
      "metadata": {
        "id": "0RKMbK6V-Z6p"
      },
      "outputs": [],
      "source": [
        "# preprocess data for model\n",
        "model_T5 = \"vlassner01/t5_cnn_model_base_v4\"\n",
        "tokenizer = T5Tokenizer.from_pretrained(model_T5)\n",
        "\n",
        "# limit length of input articles and output summary\n",
        "max_input_length = 512\n",
        "max_target_length = 250\n",
        "\n",
        "chunk_size = 1000\n",
        "\n",
        "\n",
        "# process text into tokens usin T5tokenizer\n",
        "def preprocess(examples):\n",
        "    inputs = [\"summarize: \" + doc for doc in examples[\"article\"]]\n",
        "    targets = examples[\"highlights\"]\n",
        "\n",
        "    model_inputs = tokenizer(\n",
        "        inputs,\n",
        "        max_length=max_input_length,\n",
        "        truncation=True,\n",
        "        padding=\"max_length\"\n",
        "    )\n",
        "\n",
        "    with tokenizer.as_target_tokenizer():\n",
        "        labels = tokenizer(\n",
        "            targets,\n",
        "            max_length=max_target_length,\n",
        "            truncation=True,\n",
        "            padding=\"max_length\"\n",
        "        )\n",
        "\n",
        "    # Replace pad token with -100 to ignore in loss\n",
        "    # Previously had errors due to padding with rouge eval\n",
        "    labels[\"input_ids\"] = [\n",
        "      [(label if label != tokenizer.pad_token_id else -100) for label in label_seq]\n",
        "      for label_seq in labels[\"input_ids\"]\n",
        "    ]\n",
        "\n",
        "    model_inputs[\"labels\"] = labels[\"input_ids\"]\n",
        "    return model_inputs\n",
        "\n",
        "# break up data into chunks for easier training\n",
        "def process_in_chunks(dataset, chunk_size, preprocess_fn):\n",
        "    total_len = len(dataset)\n",
        "    processed_chunks = []\n",
        "\n",
        "    for i in range(0, total_len, chunk_size):\n",
        "        chunk = dataset.select(range(i, min(i + chunk_size, total_len)))\n",
        "        processed_chunk = chunk.map(\n",
        "            preprocess_fn,\n",
        "            batched=True,\n",
        "            remove_columns=[\"article\", \"highlights\", \"id\"]\n",
        "        )\n",
        "        processed_chunks.append(processed_chunk)\n",
        "\n",
        "    return concatenate_datasets(processed_chunks)\n",
        "\n",
        "# process the training and validation data into chunks\n",
        "train_dataset = process_in_chunks(train_data, chunk_size, preprocess)\n",
        "val_dataset = process_in_chunks(val_data, chunk_size, preprocess)"
      ]
    },
    {
      "cell_type": "code",
      "source": [
        "#Adds ROUGE to evaluate model\n",
        "import evaluate\n",
        "import numpy as np\n",
        "\n",
        "rouge = evaluate.load(\"rouge\")\n",
        "\n",
        "def compute_metrics(eval_preds):\n",
        "    preds, labels = eval_preds\n",
        "\n",
        "    # If preds are logits, convert to token IDs\n",
        "    if isinstance(preds, tuple):\n",
        "        preds = preds[0]\n",
        "\n",
        "    if preds.ndim == 3:  # logits\n",
        "        preds = np.argmax(preds, axis=-1)\n",
        "\n",
        "    # clip token IDs to vocab size\n",
        "    preds = np.clip(preds, 0, tokenizer.vocab_size - 1)\n",
        "\n",
        "    decoded_preds = tokenizer.batch_decode(preds, skip_special_tokens=True)\n",
        "    labels = np.where(labels != -100, labels, tokenizer.pad_token_id)\n",
        "    decoded_labels = tokenizer.batch_decode(labels, skip_special_tokens=True)\n",
        "\n",
        "    result = rouge.compute(predictions=decoded_preds, references=decoded_labels, use_stemmer=True)\n",
        "    return {k: round(v * 100, 2) for k, v in result.items()}"
      ],
      "metadata": {
        "id": "2Qu3CZkwSWd5"
      },
      "execution_count": null,
      "outputs": []
    },
    {
      "cell_type": "code",
      "execution_count": null,
      "metadata": {
        "id": "WcZyeG39-MAa"
      },
      "outputs": [],
      "source": [
        "# Load model T5-base\n",
        "model = T5ForConditionalGeneration.from_pretrained(model_T5)\n",
        "\n",
        "from transformers import Seq2SeqTrainingArguments\n",
        "\n",
        "training_args = Seq2SeqTrainingArguments(\n",
        "    output_dir=\"./t5_cnn_model_base\",\n",
        "    eval_steps=500,\n",
        "    per_device_train_batch_size=4,    #batch size for training\n",
        "    per_device_eval_batch_size=4,     #batch size for evaluation\n",
        "    predict_with_generate=True,       #decoding\n",
        "    generation_max_length=128,        #max tokens for generated sequences during eval/prediction\n",
        "    logging_steps=100,                #reports loss every 100 steps\n",
        "    save_steps=1000,                  #saves model every 1000 steps\n",
        "    num_train_epochs=3,\n",
        "    fp16=True                          #GPU\n",
        ")\n"
      ]
    },
    {
      "cell_type": "code",
      "execution_count": null,
      "metadata": {
        "id": "Jg0RKsVhIsbu"
      },
      "outputs": [],
      "source": [
        "# adds padding so shorter sequences match the longest one\n",
        "from transformers import DataCollatorForSeq2Seq\n",
        "\n",
        "data_collator = DataCollatorForSeq2Seq(tokenizer=tokenizer, model=model)"
      ]
    },
    {
      "cell_type": "code",
      "execution_count": null,
      "metadata": {
        "id": "5gYF94aB-PDD"
      },
      "outputs": [],
      "source": [
        "# train model using hugging face's trainer class\n",
        "from transformers import Seq2SeqTrainer\n",
        "\n",
        "trainer = Seq2SeqTrainer(\n",
        "    model=model,\n",
        "    args=training_args,\n",
        "    train_dataset=train_dataset,\n",
        "    eval_dataset=val_dataset,\n",
        "    tokenizer=tokenizer,\n",
        "    compute_metrics=compute_metrics\n",
        ")\n",
        "trainer.train()"
      ]
    },
    {
      "cell_type": "code",
      "source": [
        "# evaluate model using ROUGE\n",
        "metrics = trainer.evaluate()\n",
        "print(metrics)"
      ],
      "metadata": {
        "id": "zOW7MoJQSuEa"
      },
      "execution_count": null,
      "outputs": []
    },
    {
      "cell_type": "code",
      "execution_count": null,
      "metadata": {
        "id": "8tsgE2V8-Q6d"
      },
      "outputs": [],
      "source": [
        "#saves current state of model and tokenzier locally\n",
        "model.save_pretrained(\"/content/t5_cnn_model_base_v4\")\n",
        "tokenizer.save_pretrained(\"/content/t5_cnn_model_base_v4\")"
      ]
    },
    {
      "cell_type": "code",
      "execution_count": null,
      "metadata": {
        "id": "VMhYxlpzIt6i"
      },
      "outputs": [],
      "source": [
        "# save model to huggingface for easier access for web app\n",
        "from huggingface_hub import HfApi, HfFolder\n",
        "from transformers import AutoModelForSequenceClassification, AutoTokenizer\n",
        "\n",
        "# Save to HuggingFace\n",
        "model.push_to_hub(\"vlassner01/t5_cnn_model_base_v4\",  commit_message=\"Version_4\")\n",
        "tokenizer.push_to_hub(\"vlassner01/t5_cnn_model_base_v4\")"
      ]
    },
    {
      "cell_type": "code",
      "source": [
        "# CHATGPT's work around for spiece.model not uploading to huggingface\n",
        "# Not needed for retraining\n",
        "\n",
        "\n",
        "# !mkdir -p /content/hf_tokenizer_upload\n",
        "# !cp -r /content/t5_cnn_model_base_v3/* /content/hf_tokenizer_upload/\n",
        "\n",
        "# from huggingface_hub import upload_file\n",
        "\n",
        "# repo_name = \"vlassner01/t5_cnn_model_base_v4\"\n",
        "\n",
        "# folder_path = '/content/hf_tokenizer_upload'\n",
        "\n",
        "# upload_file(\n",
        "#     path_or_fileobj=f\"{folder_path}/spiece.model\",  # Replace with actual file path\n",
        "#     path_in_repo=\"spiece.model\",  # Path in the Hugging Face repo\n",
        "#     repo_id=repo_name,\n",
        "#     commit_message=\"Upload spiece.model\"\n",
        "# )\n",
        "\n",
        "# upload_file(\n",
        "#     path_or_fileobj=f\"{folder_path}/tokenizer_config.json\",  # Replace with actual file path\n",
        "#     path_in_repo=\"tokenizer_config.json\",  # Path in the Hugging Face repo\n",
        "#     repo_id=repo_name,\n",
        "#     commit_message=\"Upload tokenizer_config.json\"\n",
        "# )\n",
        "\n",
        "# upload_file(\n",
        "#     path_or_fileobj=f\"{folder_path}/special_tokens_map.json\",  # Replace with actual file path\n",
        "#     path_in_repo=\"special_tokens_map.json\",  # Path in the Hugging Face repo\n",
        "#     repo_id=repo_name,\n",
        "#     commit_message=\"Upload special_tokens_map.json\"\n",
        "# )\n",
        "\n",
        "# upload_file(\n",
        "#     path_or_fileobj=f\"{folder_path}/tokenizer.json\",  # Replace with actual file path\n",
        "#     path_in_repo=\"tokenizer.json\",  # Path in the Hugging Face repo\n",
        "#     repo_id=repo_name,\n",
        "#     commit_message=\"Upload tokenizer.json\"\n",
        "# )"
      ],
      "metadata": {
        "id": "zmEsID1yZdWy"
      },
      "execution_count": null,
      "outputs": []
    }
  ],
  "metadata": {
    "colab": {
      "provenance": [],
      "gpuType": "T4",
      "authorship_tag": "ABX9TyOFXTdofk5gHaQVngemB5OS",
      "include_colab_link": true
    },
    "kernelspec": {
      "display_name": "Python 3",
      "name": "python3"
    },
    "language_info": {
      "name": "python"
    },
    "accelerator": "GPU"
  },
  "nbformat": 4,
  "nbformat_minor": 0
}